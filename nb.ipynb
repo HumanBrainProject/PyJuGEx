{
 "cells": [
  {
   "cell_type": "markdown",
   "metadata": {},
   "source": [
    "# Example jupyternotebook workflow for pyjugex\n",
    "\n",
    "This notebook demonstrates how a gene differential analysis can be carried out with pyjugex. Also demonstrated is the use of atlas-core to retrieve probability maps."
   ]
  },
  {
   "cell_type": "markdown",
   "metadata": {},
   "source": [
    "## Download probability maps via atlas core (optional)\n",
    "\n",
    "You may choose to use `ebrains_atlascore` to download probabilistic maps. Alternatively, you can use a variety of tools, such as `wget` on command line or `requests` in python to download the necessary probabilistic maps.\n",
    "\n",
    "It should be noted that Allen Brain provides data in MNI152 reference space. In normal circumstances, you should probably also use probabilistic maps in that space."
   ]
  },
  {
   "cell_type": "code",
   "execution_count": null,
   "metadata": {},
   "outputs": [],
   "source": [
    "!pip install ebrains_atlascore"
   ]
  },
  {
   "cell_type": "code",
   "execution_count": null,
   "metadata": {},
   "outputs": [],
   "source": [
    "from ebrains_atlascore import regions\n",
    "from ebrains_atlascore.util.hemisphere import Hemisphere\n",
    "from ebrains_atlascore.region import Region\n",
    "pmap_hoc1 = regions.get_probability_map_for_region(Region('Area-hOc1', parcellation='JuBrain Cytoarchitectonic Atlas', referencespace='MNI152'), Hemisphere.LEFT.value, 0.2)\n",
    "pmap_hoc2 = regions.get_probability_map_for_region(Region('Area-hOc2', parcellation='JuBrain Cytoarchitectonic Atlas', referencespace='MNI152'), Hemisphere.LEFT.value, 0.2)\n"
   ]
  },
  {
   "cell_type": "markdown",
   "metadata": {},
   "source": [
    "As `nibabel` does not load file in memory, write them to disk."
   ]
  },
  {
   "cell_type": "code",
   "execution_count": null,
   "metadata": {},
   "outputs": [],
   "source": [
    "with open('hoc1.nii', 'wb') as fp:\n",
    "    fp.write(pmap_hoc1.data)\n",
    "with open('hoc2.nii', 'wb') as fp:\n",
    "    fp.write(pmap_hoc2.data)"
   ]
  },
  {
   "cell_type": "markdown",
   "metadata": {},
   "source": [
    "## pyjugex analysis\n",
    "\n",
    "This section details how one may set up parameters for gene differential analysis."
   ]
  },
  {
   "cell_type": "code",
   "execution_count": null,
   "metadata": {},
   "outputs": [],
   "source": [
    "# install pyjugex and import dependencies\n",
    "\n",
    "!pip install pyjugex\n",
    "import pyjugex\n",
    "import nibabel as nib"
   ]
  },
  {
   "cell_type": "code",
   "execution_count": null,
   "metadata": {},
   "outputs": [],
   "source": [
    "# setup parameters\n",
    "\n",
    "gene_list=['MAOA','TAC1']\n",
    "nii1 = nib.load('hoc1.nii')\n",
    "nii2 = nib.load('hoc2.nii')"
   ]
  },
  {
   "cell_type": "code",
   "execution_count": null,
   "metadata": {},
   "outputs": [],
   "source": [
    "# load parameters and setup analysis\n",
    "\n",
    "analysis = pyjugex.analysis(\n",
    "  n_rep=1000,\n",
    "  gene_list=gene_list,\n",
    "  roi1 = nii1,\n",
    "  roi2 = nii2\n",
    ")"
   ]
  },
  {
   "cell_type": "code",
   "execution_count": null,
   "metadata": {},
   "outputs": [],
   "source": [
    "# prior to analysis, one can retrieve the coordinates of the probes in MNI152 space\n",
    "\n",
    "filtered_coord = analysis.get_filtered_coord()\n",
    "assert(len(filtered_coord['roi1']) == 12)\n",
    "assert(len(filtered_coord['roi2']) == 11)"
   ]
  },
  {
   "cell_type": "code",
   "execution_count": null,
   "metadata": {},
   "outputs": [],
   "source": [
    "analysis.run() # Go grab a coffee"
   ]
  },
  {
   "cell_type": "code",
   "execution_count": null,
   "metadata": {},
   "outputs": [],
   "source": [
    "# results of the differential analysis is saved in the result object\n",
    "\n",
    "maoa = analysis.anova.result.get('MAOA')\n",
    "tac1 = analysis.anova.result.get('TAC1')\n",
    "\n",
    "assert(0.95 <= maoa <= 1.0)\n",
    "assert(0.35 <= tac1 <= 0.55)"
   ]
  },
  {
   "cell_type": "code",
   "execution_count": null,
   "metadata": {},
   "outputs": [],
   "source": [
    "# alter the parameter and start another run\n",
    "\n",
    "analysis.n_rep = 10000\n",
    "analysis.run() # Really go grab a coffee"
   ]
  },
  {
   "cell_type": "code",
   "execution_count": null,
   "metadata": {},
   "outputs": [],
   "source": [
    "maoa = analysis.anova.result.get('MAOA')\n",
    "tac1 = analysis.anova.result.get('TAC1')\n",
    "\n",
    "assert(0.95 <= maoa <= 1.0)\n",
    "assert(0.35 <= tac1 <= 0.52)"
   ]
  }
 ],
 "metadata": {
  "kernelspec": {
   "display_name": "Python 3",
   "language": "python",
   "name": "python3"
  },
  "language_info": {
   "codemirror_mode": {
    "name": "ipython",
    "version": 3
   },
   "file_extension": ".py",
   "mimetype": "text/x-python",
   "name": "python",
   "nbconvert_exporter": "python",
   "pygments_lexer": "ipython3",
   "version": "3.6.9"
  }
 },
 "nbformat": 4,
 "nbformat_minor": 4
}